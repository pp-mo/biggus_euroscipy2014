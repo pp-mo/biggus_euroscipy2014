{
 "metadata": {
  "name": "",
  "signature": "sha256:6dba16afd7e36b4b691ffe7639069950e20ee7466472e44a26d333e2f41f98a8"
 },
 "nbformat": 3,
 "nbformat_minor": 0,
 "worksheets": [
  {
   "cells": [
    {
     "cell_type": "markdown",
     "metadata": {},
     "source": [
      "Efficient large data operations with Biggus\n",
      "===========================================\n",
      "\n",
      "Aug 30th 2014\n",
      "\n",
      "Patrick Peglar - UK Met Office, Exeter\n",
      "\n",
      "\n",
      "Summary\n",
      "-------\n",
      "\n",
      "Biggus is a lightweight pure-Python package which implements lazy operations on numpy array-like objects. This provides dramatically improved efficiency in analysing large datasets, for minimal additional effort in the client code.\n",
      "\n",
      "From the module docstring...\n",
      "-------\n",
      "\"\"\"\n",
      "\n",
      "    Virtual arrays of arbitrary size, with arithmetic and statistical operations, and conversion to NumPy ndarrays.  \n",
      "    Virtual arrays can be stacked to increase their dimensionality, or tiled to increase their extent.  \n",
      "    Includes support for easily wrapping data sources which produce NumPy ndarray objects via slicing.  \n",
      "        For example: netcdf4python Variable instances, and NumPy ndarray instances.  \n",
      "    All operations are performed in a lazy fashion to avoid overloading system resources.  \n",
      "    Conversion to a concrete NumPy ndarray requires an explicit method call.  \n",
      "\"\"\"\n",
      "  \n",
      "  \n",
      "  \n",
      "  \n",
      "# ( That's pretty much it, so we can go home. )\n",
      "  \n",
      "  \n",
      "  \n",
      "!"
     ]
    },
    {
     "cell_type": "markdown",
     "metadata": {},
     "source": [
      "\n",
      "\n",
      "The longest journey ...\n",
      "------"
     ]
    },
    {
     "cell_type": "code",
     "collapsed": false,
     "input": [
      "import biggus\n",
      "print biggus.__version__"
     ],
     "language": "python",
     "metadata": {},
     "outputs": [
      {
       "output_type": "stream",
       "stream": "stdout",
       "text": [
        "0.7.0-alpha\n"
       ]
      }
     ],
     "prompt_number": 9
    },
    {
     "cell_type": "markdown",
     "metadata": {},
     "source": [
      "A simple operation and the biggus equivalent\n",
      "----"
     ]
    },
    {
     "cell_type": "code",
     "collapsed": false,
     "input": [
      "import numpy as np\n",
      "array_1 = np.array([[1., 5., 2.], [7., 6., 5.]])\n",
      "print 'simple array :'\n",
      "print array_1\n",
      "print\n",
      "print 'shape :', array_1.shape\n",
      "mean_a1 = array_1.mean(axis=1)\n",
      "print\n",
      "print 'mean over axis 1 :'\n",
      "print mean_a1"
     ],
     "language": "python",
     "metadata": {},
     "outputs": [
      {
       "output_type": "stream",
       "stream": "stdout",
       "text": [
        "simple array :\n",
        "[[ 1.  5.  2.]\n",
        " [ 7.  6.  5.]]\n",
        "\n",
        "shape : (2, 3)\n",
        "\n",
        "mean over axis 1 :\n",
        "[ 2.66666667  6.        ]\n"
       ]
      }
     ],
     "prompt_number": 10
    },
    {
     "cell_type": "code",
     "collapsed": false,
     "input": [
      "lazy_1 = biggus.NumpyArrayAdapter(array_1)\n",
      "print 'a lazy array : ', lazy_1"
     ],
     "language": "python",
     "metadata": {},
     "outputs": [
      {
       "output_type": "stream",
       "stream": "stdout",
       "text": [
        "a lazy array :  <NumpyArrayAdapter shape=(2, 3) dtype=dtype('float64')>\n"
       ]
      }
     ],
     "prompt_number": 11
    },
    {
     "cell_type": "code",
     "collapsed": false,
     "input": [
      "lazy_mean = biggus.mean(lazy_1, axis=1)\n",
      "print 'lazy mean :', lazy_mean\n",
      "print 'shape :', array_1.shape\n",
      "print\n",
      "print 'lazy mean *result* :'\n",
      "print lazy_mean.ndarray()"
     ],
     "language": "python",
     "metadata": {},
     "outputs": [
      {
       "output_type": "stream",
       "stream": "stdout",
       "text": [
        "lazy mean : <_Aggregation shape=(2,) dtype=dtype('float64')>\n",
        "shape : (2, 3)\n",
        "\n",
        "lazy mean *result* :\n",
        "[ 2.66666667  6.        ]\n"
       ]
      }
     ],
     "prompt_number": 12
    },
    {
     "cell_type": "markdown",
     "metadata": {},
     "source": [
      "### Same as before...\n",
      "But this time change the source data, between *forming* the mean and *evaluating* it."
     ]
    },
    {
     "cell_type": "code",
     "collapsed": false,
     "input": [
      "lazy_mean = biggus.mean(lazy_1, axis=1)\n",
      "print lazy_mean\n",
      "array_1[0,:] = -1\n",
      "print lazy_mean.ndarray()"
     ],
     "language": "python",
     "metadata": {},
     "outputs": [
      {
       "output_type": "stream",
       "stream": "stdout",
       "text": [
        "<_Aggregation shape=(2,) dtype=dtype('float64')>\n",
        "[-1.  6.]\n"
       ]
      }
     ],
     "prompt_number": 13
    },
    {
     "cell_type": "markdown",
     "metadata": {},
     "source": [
      "Anything that 'looks like' an array can be wrapped as a biggus.Array.\n",
      "====\n",
      "It just needs to support the minimum numpy-array-like properties : \"shape\", \"dtype\" and \"\\_\\_getitem__\".  \n",
      "Here's a tiny example that \"looks like\" an array full of a constant, and indicates clearly when it is actually accessed."
     ]
    },
    {
     "cell_type": "code",
     "collapsed": false,
     "input": [
      "class constant_array(object):\n",
      "    def __init__(self, shape, value=0.0):\n",
      "        self.shape = shape\n",
      "        self.dtype = np.float\n",
      "        self._value = value\n",
      "    def __getitem__(self, indices):\n",
      "        print 'accessing :', indices\n",
      "        return  self._value * np.ones(self.shape)[indices]\n",
      "\n",
      "lazy_const_2x3 = biggus.NumpyArrayAdapter(constant_array((2, 3, 4), value=3.5))\n",
      "print lazy_const_2x3\n",
      "one_element = lazy_const_2x3[0, 1]\n",
      "print one_element\n",
      "print one_element.ndarray()"
     ],
     "language": "python",
     "metadata": {},
     "outputs": [
      {
       "output_type": "stream",
       "stream": "stdout",
       "text": [
        "<NumpyArrayAdapter shape=(2, 3, 4) dtype=<type 'float'>>\n",
        "<NumpyArrayAdapter shape=(4,) dtype=<type 'float'>>\n",
        "accessing : (0, 1)\n",
        "[ 3.5  3.5  3.5  3.5]\n"
       ]
      }
     ],
     "prompt_number": 14
    },
    {
     "cell_type": "markdown",
     "metadata": {},
     "source": [
      "### In fact, this functionality is already provided in biggus\n",
      "(without the evaluation debug).\n",
      "\n",
      "It is called a ConstantArray..\n"
     ]
    },
    {
     "cell_type": "code",
     "collapsed": false,
     "input": [
      "lazy_const_2x3 = biggus.ConstantArray((2, 3, 4), 3.77)\n",
      "print lazy_const_2x3\n",
      "one_element = lazy_const_2x3[0, 1]\n",
      "print one_element\n",
      "print one_element.ndarray()\n"
     ],
     "language": "python",
     "metadata": {},
     "outputs": [
      {
       "output_type": "stream",
       "stream": "stdout",
       "text": [
        "<ConstantArray shape=(2, 3, 4) dtype=dtype('float64')>\n",
        "<ConstantArray shape=(4,) dtype=dtype('float64')>\n",
        "[ 3.77  3.77  3.77  3.77]\n"
       ]
      }
     ],
     "prompt_number": 15
    },
    {
     "cell_type": "markdown",
     "metadata": {},
     "source": [
      "But what is the point ?\n",
      "----\n",
      "\n",
      "**SPACE**  \n",
      "and  \n",
      "**TIME**"
     ]
    },
    {
     "cell_type": "markdown",
     "metadata": {},
     "source": [
      "See : https://github.com/SciTools/biggus\n",
      "\n",
      "Rationale\n",
      "\n",
      "As scientific datasets continue to grow exponentially in size, the resource requirements of even simple analyses can quickly grow to become a problem -- e.g. the job takes an unreasonably long time, or simply runs out of space.\n",
      "\n",
      "Existing solutions to this may be powerful, but can also come with a large complexity overhead, especially for the non-expert user. This makes adapting an existing analysis to the needs of larger datasets potentially very costly.\n",
      "\n",
      "Biggus provides simple abstractions of data access and calculations which provide lazy evaluation. It exposes this as simple virtual array object which mimics a numpy array. Thus, it does not require the user to re-cast an operation in unfamiliar terms, or specify unrelated details of data storage or concurrency factors.\n",
      "\n",
      "The lazy evaluation approach allows optimised resource usage for both storage accesses and the parallelisation of calculations. Pure Python is well suited to describing and implementing these techniques, and the resulting implementation is easily accessible to the average user.\n",
      "\n",
      "At the Met Office, we develop data analysis tools for a large community of research scientists. We developed Biggus as a resource for the Iris project, our next-generation analysis library for meteorological and oceanographic data (see: http://scitools.org.uk/iris/). While Biggus is still work-in-progress, within Iris it is already delivering significant benefit, in tasks such as catalogueing large datasets and accelerating statistical calculations. Here, performance already exceeds that of other standard software toolsets.\n",
      "Schedule\n",
      "\n",
      "    the problems Biggus is aiming to solve, and techniques employed\n",
      "    an overview of the architecture and code of the current implementation\n",
      "    a demonstration of current performance, in ease-of-use and efficiency benefits\n",
      "    suggestions for future developments; how to get involved; questions\n",
      "\n",
      "Supporting URLs\n",
      "Iris project (core developer) Biggus project (own project : object wrapping for netcdf manipulations) "
     ]
    },
    {
     "cell_type": "code",
     "collapsed": true,
     "input": [],
     "language": "python",
     "metadata": {},
     "outputs": [],
     "prompt_number": 15
    }
   ],
   "metadata": {}
  }
 ]
}