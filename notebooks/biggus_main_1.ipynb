{
 "metadata": {
  "name": "",
  "signature": "sha256:0a97d05cbd810feb187bf2d7ce6b81a7712487f255d3775e20f4ad67fa8c3923"
 },
 "nbformat": 3,
 "nbformat_minor": 0,
 "worksheets": [
  {
   "cells": [
    {
     "cell_type": "markdown",
     "metadata": {},
     "source": [
      "Efficient large data operations with Biggus\n",
      "===========================================\n",
      "\n",
      "Aug 30th 2014\n",
      "\n",
      "Patrick Peglar - UK Met Office, Exeter\n",
      "\n",
      "\n",
      "Summary\n",
      "-------\n",
      "\n",
      "Biggus is a lightweight pure-Python package which implements lazy operations on numpy array-like objects. This provides dramatically improved efficiency in analysing large datasets, for minimal additional effort in the client code.\n",
      "\n",
      "From the project...\n",
      "-------\n"
     ]
    },
    {
     "cell_type": "code",
     "collapsed": false,
     "input": [],
     "language": "python",
     "metadata": {},
     "outputs": []
    },
    {
     "cell_type": "markdown",
     "metadata": {},
     "source": [
      "See : https://github.com/SciTools/biggus\n",
      "\n",
      "Rationale\n",
      "\n",
      "As scientific datasets continue to grow exponentially in size, the resource requirements of even simple analyses can quickly grow to become a problem -- e.g. the job takes an unreasonably long time, or simply runs out of space.\n",
      "\n",
      "Existing solutions to this may be powerful, but can also come with a large complexity overhead, especially for the non-expert user. This makes adapting an existing analysis to the needs of larger datasets potentially very costly.\n",
      "\n",
      "Biggus provides simple abstractions of data access and calculations which provide lazy evaluation. It exposes this as simple virtual array object which mimics a numpy array. Thus, it does not require the user to re-cast an operation in unfamiliar terms, or specify unrelated details of data storage or concurrency factors.\n",
      "\n",
      "The lazy evaluation approach allows optimised resource usage for both storage accesses and the parallelisation of calculations. Pure Python is well suited to describing and implementing these techniques, and the resulting implementation is easily accessible to the average user.\n",
      "\n",
      "At the Met Office, we develop data analysis tools for a large community of research scientists. We developed Biggus as a resource for the Iris project, our next-generation analysis library for meteorological and oceanographic data (see: http://scitools.org.uk/iris/). While Biggus is still work-in-progress, within Iris it is already delivering significant benefit, in tasks such as catalogueing large datasets and accelerating statistical calculations. Here, performance already exceeds that of other standard software toolsets.\n",
      "Schedule\n",
      "\n",
      "    the problems Biggus is aiming to solve, and techniques employed\n",
      "    an overview of the architecture and code of the current implementation\n",
      "    a demonstration of current performance, in ease-of-use and efficiency benefits\n",
      "    suggestions for future developments; how to get involved; questions\n",
      "\n",
      "Supporting URLs\n",
      "Iris project (core developer) Biggus project (own project : object wrapping for netcdf manipulations) "
     ]
    },
    {
     "cell_type": "code",
     "collapsed": true,
     "input": [],
     "language": "python",
     "metadata": {},
     "outputs": []
    }
   ],
   "metadata": {}
  }
 ]
}